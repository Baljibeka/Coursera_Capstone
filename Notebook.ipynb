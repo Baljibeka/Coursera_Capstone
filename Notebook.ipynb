{
    "cells": [
        {
            "cell_type": "markdown",
            "metadata": {
                "collapsed": true
            },
            "source": "# My Jupyter Notebook on IBM Watson Studio"
        },
        {
            "cell_type": "markdown",
            "metadata": {},
            "source": "**Balzhan** <br />\nRisk manager"
        },
        {
            "cell_type": "markdown",
            "metadata": {},
            "source": "*I am interested in data science, because it gives you so much opportunities. Reducing human error, managing time and data. And also being able to use your knowledge in math statistics and programming all together to get even better output*"
        },
        {
            "cell_type": "markdown",
            "metadata": {},
            "source": "### The following code tests Gauss formula ###"
        },
        {
            "cell_type": "code",
            "execution_count": 2,
            "metadata": {},
            "outputs": [
                {
                    "data": {
                        "text/plain": "True"
                    },
                    "execution_count": 2,
                    "metadata": {},
                    "output_type": "execute_result"
                }
            ],
            "source": "def gauss(n):\n    return (n*(n+1))/2\n\ngauss(100) == sum(range(101))"
        },
        {
            "cell_type": "markdown",
            "metadata": {},
            "source": "* Numbers\n1. one\n2. two \n3. three\n\n| Numbers  | Letters  |\n| -------- |:--------:| \n|     1    |    a     | \n|     2    |    b     | \n|     3    |    c     | \n\n>All done!\n\n[Cool video watch out!](https://www.youtube.com/watch?v=T_gJJRbncUU)\n\n"
        }
    ],
    "metadata": {
        "kernelspec": {
            "display_name": "Python 3.7",
            "language": "python",
            "name": "python3"
        },
        "language_info": {
            "codemirror_mode": {
                "name": "ipython",
                "version": 3
            },
            "file_extension": ".py",
            "mimetype": "text/x-python",
            "name": "python",
            "nbconvert_exporter": "python",
            "pygments_lexer": "ipython3",
            "version": "3.7.10"
        }
    },
    "nbformat": 4,
    "nbformat_minor": 1
}